{
 "cells": [
  {
   "cell_type": "code",
   "execution_count": 62,
   "metadata": {},
   "outputs": [],
   "source": [
    "import cv2\n",
    "import numpy as np\n",
    "\n",
    "chessboardSquareMM = 13\n",
    "checkerboardDimension = (10, 17)\n",
    "\n",
    "criteria = (cv2.TERM_CRITERIA_EPS + cv2.TERM_CRITERIA_MAX_ITER, 30, 0.001)\n",
    "\n",
    "object3D = np.zeros((checkerboardDimension[0] * checkerboardDimension[1], 3), np.float32)\n",
    "index = 0\n",
    "for i in range(checkerboardDimension[0]):\n",
    "    for j in range(checkerboardDimension[1]):\n",
    "        object3D[index][0] = i * chessboardSquareMM\n",
    "        object3D[index][1] = j * chessboardSquareMM\n",
    "        index += 1\n",
    "\n",
    "objPoints3D = []  \n",
    "imgPoints2D = [] \n",
    "\n",
    "checkerboards = [\n",
    "    r\"C:\\Users\\amari\\Desktop\\Code\\Rutgers\\MACHINEVISION\\checkerboardphotos\\IMG_7010.jpg\",\n",
    "    r\"C:\\Users\\amari\\Desktop\\Code\\Rutgers\\MACHINEVISION\\checkerboardphotos\\IMG_7011.jpg\",\n",
    "    r\"C:\\Users\\amari\\Desktop\\Code\\Rutgers\\MACHINEVISION\\checkerboardphotos\\IMG_7012.jpg\",\n",
    "    r\"C:\\Users\\amari\\Desktop\\Code\\Rutgers\\MACHINEVISION\\checkerboardphotos\\IMG_7013.jpg\",\n",
    "    r\"C:\\Users\\amari\\Desktop\\Code\\Rutgers\\MACHINEVISION\\checkerboardphotos\\IMG_7014.jpg\",\n",
    "    r\"C:\\Users\\amari\\Desktop\\Code\\Rutgers\\MACHINEVISION\\checkerboardphotos\\IMG_7015.jpg\"\n",
    "]\n",
    "\n",
    "for checkerboard in checkerboards:\n",
    "    cbImage = cv2.imread(checkerboard)\n",
    "    checkerboard = cv2.cvtColor(cbImage, cv2.COLOR_RGB2BGR)\n",
    "    gray = cv2.cvtColor(checkerboard, cv2.COLOR_BGR2GRAY)\n",
    "    ret, corners = cv2.findChessboardCorners(gray, checkerboardDimension, None)\n",
    "    \n",
    "    if ret:\n",
    "        objPoints3D.append(object3D.copy()) \n",
    "        corners2 = cv2.cornerSubPix(gray, corners, (3, 3), (-1, -1), criteria)\n",
    "        imgPoints2D.append(corners2)\n",
    "        img = cv2.drawChessboardCorners(checkerboard, checkerboardDimension, corners2, ret)\n",
    "        \n",
    "        cv2.imshow('Chessboard Corners', checkerboard)\n",
    "        cv2.waitKey(500)\n",
    "        cv2.destroyAllWindows()\n",
    "\n",
    "calibDataPath = r\"C:\\Users\\amari\\Desktop\\Code\\Rutgers\\MACHINEVISION\"\n",
    "\n",
    "ret, cameraMatrix, distCoeff, rotationalVecs, translationVecs = cv2.calibrateCamera(objPoints3D, imgPoints2D, gray.shape[::-1], None, None)\n",
    "\n",
    "np.savez(\n",
    "    f\"{calibDataPath}/CalibrationMatrix_college_cpt\",\n",
    "    Camera_matrix = cameraMatrix,\n",
    "    distCoeff = distCoeff,\n",
    "    RotationalV = rotationalVecs,\n",
    "    TranslationV = translationVecs,\n",
    ")\n"
   ]
  },
  {
   "cell_type": "code",
   "execution_count": 63,
   "metadata": {},
   "outputs": [
    {
     "name": "stdout",
     "output_type": "stream",
     "text": [
      "Camera Matrix:\n",
      " [[9.25692841e+03 0.00000000e+00 4.58239711e+02]\n",
      " [0.00000000e+00 8.37883743e+04 3.59148084e+02]\n",
      " [0.00000000e+00 0.00000000e+00 1.00000000e+00]]\n"
     ]
    }
   ],
   "source": [
    "Calibration = np.load(f\"{calib_data_path}/CalibrationMatrix_college_cpt.npz\")\n",
    "cameraMatrix = Calibration['Camera_matrix']\n",
    "print(\"Camera Matrix:\\n\", cameraMatrix)"
   ]
  }
 ],
 "metadata": {
  "kernelspec": {
   "display_name": "myenv",
   "language": "python",
   "name": "python3"
  },
  "language_info": {
   "codemirror_mode": {
    "name": "ipython",
    "version": 3
   },
   "file_extension": ".py",
   "mimetype": "text/x-python",
   "name": "python",
   "nbconvert_exporter": "python",
   "pygments_lexer": "ipython3",
   "version": "3.12.1"
  }
 },
 "nbformat": 4,
 "nbformat_minor": 2
}
